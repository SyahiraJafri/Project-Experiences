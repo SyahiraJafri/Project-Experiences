{
  "nbformat": 4,
  "nbformat_minor": 0,
  "metadata": {
    "colab": {
      "provenance": []
    },
    "kernelspec": {
      "name": "python3",
      "display_name": "Python 3"
    },
    "language_info": {
      "name": "python"
    }
  },
  "cells": [
    {
      "cell_type": "code",
      "execution_count": 12,
      "metadata": {
        "id": "IfsdyDk5p2Bu"
      },
      "outputs": [],
      "source": [
        "import pandas as pd\n",
        "import re\n"
      ]
    },
    {
      "cell_type": "code",
      "source": [
        "# Step 1: Load data from CSV and handle encoding issues\n",
        "file_path = '/content/drive/MyDrive/Portfolio Project/RF Jumper Grouping (Example).csv'"
      ],
      "metadata": {
        "id": "Ha96yX5ip8sn"
      },
      "execution_count": 13,
      "outputs": []
    },
    {
      "cell_type": "code",
      "source": [
        "# Handle potential encoding issues\n",
        "try:\n",
        "    data = pd.read_csv(file_path, encoding='utf-8')\n",
        "except UnicodeDecodeError:\n",
        "    try:\n",
        "        data = pd.read_csv(file_path, encoding='latin-1')\n",
        "    except UnicodeDecodeError:\n",
        "        data = pd.read_csv(file_path, encoding='ISO-8859-1')"
      ],
      "metadata": {
        "id": "m2QLXtRbp8qY"
      },
      "execution_count": 14,
      "outputs": []
    },
    {
      "cell_type": "code",
      "source": [
        "# Ensure only relevant columns are selected\n",
        "df = pd.DataFrame(data, columns=['Item Code', 'Autocount Name', 'Stock Count'])"
      ],
      "metadata": {
        "id": "hqh___DZp8oJ"
      },
      "execution_count": 15,
      "outputs": []
    },
    {
      "cell_type": "code",
      "source": [
        "print (df.head)"
      ],
      "metadata": {
        "colab": {
          "base_uri": "https://localhost:8080/"
        },
        "id": "YbUM0nlyp8lx",
        "outputId": "4af56c09-3bed-4cb5-eebb-f3391149697f"
      },
      "execution_count": 16,
      "outputs": [
        {
          "output_type": "stream",
          "name": "stdout",
          "text": [
            "<bound method NDFrame.head of     Item Code                                     Autocount Name  Stock Count\n",
            "0    40500044  7/16 FEMALE 1/2 TO 4.3-10 MALE 1/2\" SUPERFLEX ...          NaN\n",
            "1    40500078  7/16 MALE TO 7/16 MALE 1/2\" SUPERFLEX JUMPER 4...        196.0\n",
            "2    40500092  7/16 MALE TO 7/16 MALE 1/2\" SUPERFLEX JUMPER 5...        102.0\n",
            "3    40500079  7/16 MALE TO 7/16 MALE 1/2\" SUPERFLEX JUMPER 8...        146.0\n",
            "4    40500080  7/16 MALE TO 7/16 MALE 1/2\" SUPERFLEX JUMPER 1...        187.0\n",
            "5    40500081    N MALE TO 7/16 MALE 1/2\" SUPERFLEX JUMPER 4 MTR         34.0\n",
            "6    40500095    N MALE TO 7/16 MALE 1/2\" SUPERFLEX JUMPER 5 MTR         30.0\n",
            "7    40500162    N MALE TO 7/16 MALE 1/2\" SUPERFLEX JUMPER 6 MTR         83.0\n",
            "8    40500082    N MALE TO 7/16 MALE 1/2\" SUPERFLEX JUMPER 8 MTR         69.0\n",
            "9    40500163   N MALE TO 7/16 MALE 1/2\" SUPERFLEX JUMPER 10 MTR         25.0\n",
            "10   40500083    N MALE TO7/16 MALE 1/2\" SUPERFLEX JUMPER 12 MTR         50.0\n",
            "11   40500086  RF JUMPER ASSEMBLY ST FEMALE CRIMP BNC ST MALE...         33.0\n",
            "12   40500090  7/16 MALE TO 7/16 MALE 1/2\" SUPERFLEX JUMPER 2...          0.0\n",
            "13   40500091  7/16 MALE TO 7/16 MALE 1/2\" SUPERFLEX JUMPER 3...          0.0\n",
            "14   40500093    N MALE TO 7/16 MALE 1/2\" SUPERFLEX JUMPER 2 MTR         -3.0\n",
            "15   40500094    N MALE TO 7/16 MALE 1/2\" SUPERFLEX JUMPER 3 MTR         52.0\n",
            "16   40500097  7/16 RIGHT ANGLE MALE TO 7/16 MALE 1/2\" SUPERF...         24.0\n",
            "17   40500107  7/16 MALE TO 4.3-10 MALE 1/2\" SUPERFLEX JUMPER...         80.0\n",
            "18   40500108  7/16 MALE TO 4.3-10 MALE 1/2\" SUPERFLEX JUMPER...        100.0\n",
            "19   40500109      7/16 MALE TO 1.0/2.3 MALE LMR240 JUMPER 1 MTR          0.0\n",
            "20   40500113      7/16 R/A MALE TO 4.3 MALE 1/2\"S JUMPER 10 MTR          NaN\n",
            "21   40500115  4.3-10 MALE TO 4.3-10 MALE 1/2\" SUPERFLEX JUMP...          0.0\n",
            "22   40500116  7/16 MALE TO 7/16 MALE 1/2\" SUPERFLEX JUMPER 3...          1.0\n",
            "23   40500117  7/16 MALE TO 7/16 MALE 1/2\" SUPERFLEX JUMPER 5...          2.0\n",
            "24   40500128     N(MALE) TO N(MALE) 1/4'' SUPERFLEX JUMPER 3MTR          5.0\n",
            "25   40500131   N(MALE) TO N(MALE) 1/4'' SUPERFLEX JUMPER 0.5MTR         10.0\n",
            "26   40500164       N MALE TO N MALE 1/2\" SUPERFLEX JUMPER 2 MTR         22.0\n",
            "27   40500132     N(MALE) TO N(MALE) 1/2'' SUPERFLEX JUMPER 5MTR          3.0\n",
            "28   40500135   N (MALE) TO N(MALE) 1/2\" SUPERFLEX JUMPER 0.5MTR          2.0\n",
            "29   40500134  4.3-10(MALE) TO N(MALE) 1/2\" SUPERFLEX JUMPER ...          1.0\n",
            "30   40500136  4.3-10(MALE) TO N(MALE) 1/2\" SUPERFLEX JUMPER ...          6.0\n",
            "31   40500153  1 MTR JUMPER 1/2'' SUPERFLEX CABLE N MALE AND ...        139.0\n",
            "32   40500154  1MTR JUMPER 1/2'' SUPERFLEX CABLE N MALE AND N...         34.0\n",
            "33   40500155  2MTR JUMPER 1/2'' SUPERFLEX CABLE N MALE AND N...         53.0\n",
            "34   40500165       N MALE TO N MALE 1/2\" SUPERFLEX JUMPER 3 MTR         15.0\n",
            "35   40500166   N MALE TO 7/16 MALE 1/2\" SUPERFLEX JUMPER 14 MTR          NaN\n",
            "36   40500167  7/16 MALE TO 4.3-10 MALE 1/2\" SUPERFLEX JUMPER...          0.0\n",
            "37  FG0000350  4.3 MALE TO 7/16 MALE 1/2\" SUPERFLEX JUMPER 1....        -42.0\n",
            "38  FG0000351  7/16 MALE TO 7/16 MALE 1/2\" SUPERFLEX JUMPER 1...        -24.0\n",
            "39  FG0000352  4.3 MALE TO 7/16 MALE 1/2\" SUPERFLEX JUMPER 3 MTR        -12.0\n",
            "40  FG0000353  7/16 RIGHT ANGLE MALE TO 7/16 MALE 1/2\" SUPERF...         -6.0\n",
            "41  FG0000476  7/16 R/A MALE TO 4.3-10 MALE 1/2\" SUPERFLEX JU...        -20.0\n",
            "42  FG0000477  7/16 R/A MALE TO 4.3-10 MALE 1/2\" SUPERFLEX JU...         -8.0\n",
            "43  FG0000478  4.3-10 MALE TO 4.3-10 MALE 1/2\" SUPERFLEX JUMP...        -20.0\n",
            "44  FG0000577  1/2 SUPERFLEXIBLE JUMPER N MALE TO 7/16 MALE 2...        -64.0\n",
            "45  FG0000598  1/2 SUPERFLEXIBLE JUMPER N MALE TO 7/16 MALE 3...        -16.0\n",
            "46  FG0000706  7/16 MALE TO 7/16 MALE 1/2\" SUPERFLEX JUMPER 2...        -12.0\n",
            "47  FG0000707  7/16 MALE TO 7/16 MALE 1/2\" SUPERFLEX JUMPER 1...          NaN\n",
            "48  FG0000928     1/2 JUMPER SUPERFLEX N MALE TO N FEMALE 17 MTR         -1.0\n",
            "49  FG0000929     1/2 JUMPER SUPERFLEX N MALE TO N FEMALE 20 MTR         -1.0\n",
            "50  FG0001000  7/16 MALE TO 7/16 MALE 1/2\" SUPERFLEX JUMPER 3...         -4.0\n",
            "51  FG0001001  7/16 MALE TO 4.3 R10 MALE 1/2\" SUPERFLEX JUMPE...        -36.0\n",
            "52  FG0001100  4.3-10 MALE TO 7/16 MALE 1/2\" SUPERFLEX JUMPER...        -18.0\n",
            "53  FG0001101  4.3-10 MALE TO 4.3-10 MALE 1/2\" SUPERFLEX JUMP...        -11.0\n",
            "54  FG0001155       7/16 MALE TO 7/16 MALE 1/2\" SUPERFLEX JUMPER          0.0\n",
            "55  FG0001156      R/A N MALE TO R/A N MALE 1/2 SUPERFLEX JUMPER         -1.0\n",
            "56  FG0001172          N MALE TO 7/16 MALE 1/2\" SUPERFLEX JUMPER         -8.0\n",
            "57  FG0001186      N MALE TO N MALE 1/2'' SUPERFLEX JUMPER CABLE        -12.0\n",
            "58  FG0001218                N MALE TO N MALE 1/2'' JUMPER CABLE        -43.0\n",
            "59  FG0001244  4.3-10 MALE TO 4.3-10 MALE 1/2\" SUPERFLEX JUMP...          NaN>\n"
          ]
        }
      ]
    },
    {
      "cell_type": "code",
      "source": [
        "# Function to extract base and length (e.g., SUPERFLEX JUMPER and 3MTR)\n",
        "def extract_base_and_length(item):\n",
        "    match = re.search(r\"(.+?)\\s(\\d+(\\.\\d+)?\\s*(MTR|METER))\", item, re.I)\n",
        "    if match:\n",
        "        base = match.group(1).strip()\n",
        "        length = match.group(2).strip()\n",
        "        return base, length\n",
        "    return item, None\n"
      ],
      "metadata": {
        "id": "6uXIuMdnqOen"
      },
      "execution_count": 17,
      "outputs": []
    },
    {
      "cell_type": "code",
      "source": [
        "# Function to identify connector type (without including any length terms)\n",
        "def extract_connector_type(item):\n",
        "    # Search for descriptions before SUPERFLEX/SUPERFLEXIBLE JUMPER\n",
        "    before_base = re.search(r\"(.*?)\\s(SUPERFLEX|SUPERFLEXIBLE)\\sJUMPER\", item, re.I)\n",
        "    after_base = re.search(r\"(SUPERFLEX|SUPERFLEXIBLE)\\sJUMPER\\s(.*)\", item, re.I)\n",
        "\n",
        "    connector_types = []\n",
        "\n",
        "    if before_base:\n",
        "        connector_types.append(before_base.group(1).strip())\n",
        "\n",
        "    if after_base:\n",
        "        # Only include parts without length (no MTR/METER terms)\n",
        "        after_connector = re.sub(r'\\d+\\s*(MTR|METER)', '', after_base.group(2)).strip()\n",
        "        connector_types.append(after_connector)\n",
        "\n",
        "    return \" | \".join([x for x in connector_types if x])\n"
      ],
      "metadata": {
        "id": "fiuLtHGlqR6w"
      },
      "execution_count": 18,
      "outputs": []
    },
    {
      "cell_type": "code",
      "source": [
        "# Apply extraction logic row-wise on the DataFrame\n",
        "df[['Base', 'Length']] = df['Autocount Name'].apply(lambda x: pd.Series(extract_base_and_length(x)))\n",
        "df['Connector Type'] = df['Autocount Name'].apply(lambda x: extract_connector_type(x))"
      ],
      "metadata": {
        "id": "LJNCBvpIqWWP"
      },
      "execution_count": 19,
      "outputs": []
    },
    {
      "cell_type": "code",
      "source": [
        "print (df.head(10))"
      ],
      "metadata": {
        "colab": {
          "base_uri": "https://localhost:8080/"
        },
        "id": "iiLtCuHzdWhO",
        "outputId": "635f0ef8-a464-4991-a4d1-c3dd14069b1f"
      },
      "execution_count": 20,
      "outputs": [
        {
          "output_type": "stream",
          "name": "stdout",
          "text": [
            "  Item Code                                     Autocount Name  Stock Count  \\\n",
            "0  40500044  7/16 FEMALE 1/2 TO 4.3-10 MALE 1/2\" SUPERFLEX ...          NaN   \n",
            "1  40500078  7/16 MALE TO 7/16 MALE 1/2\" SUPERFLEX JUMPER 4...        196.0   \n",
            "2  40500092  7/16 MALE TO 7/16 MALE 1/2\" SUPERFLEX JUMPER 5...        102.0   \n",
            "3  40500079  7/16 MALE TO 7/16 MALE 1/2\" SUPERFLEX JUMPER 8...        146.0   \n",
            "4  40500080  7/16 MALE TO 7/16 MALE 1/2\" SUPERFLEX JUMPER 1...        187.0   \n",
            "5  40500081    N MALE TO 7/16 MALE 1/2\" SUPERFLEX JUMPER 4 MTR         34.0   \n",
            "6  40500095    N MALE TO 7/16 MALE 1/2\" SUPERFLEX JUMPER 5 MTR         30.0   \n",
            "7  40500162    N MALE TO 7/16 MALE 1/2\" SUPERFLEX JUMPER 6 MTR         83.0   \n",
            "8  40500082    N MALE TO 7/16 MALE 1/2\" SUPERFLEX JUMPER 8 MTR         69.0   \n",
            "9  40500163   N MALE TO 7/16 MALE 1/2\" SUPERFLEX JUMPER 10 MTR         25.0   \n",
            "\n",
            "                                                Base  Length  \\\n",
            "0  7/16 FEMALE 1/2 TO 4.3-10 MALE 1/2\" SUPERFLEX ...   2 MTR   \n",
            "1       7/16 MALE TO 7/16 MALE 1/2\" SUPERFLEX JUMPER   4 MTR   \n",
            "2       7/16 MALE TO 7/16 MALE 1/2\" SUPERFLEX JUMPER   5 MTR   \n",
            "3       7/16 MALE TO 7/16 MALE 1/2\" SUPERFLEX JUMPER   8 MTR   \n",
            "4       7/16 MALE TO 7/16 MALE 1/2\" SUPERFLEX JUMPER  12 MTR   \n",
            "5          N MALE TO 7/16 MALE 1/2\" SUPERFLEX JUMPER   4 MTR   \n",
            "6          N MALE TO 7/16 MALE 1/2\" SUPERFLEX JUMPER   5 MTR   \n",
            "7          N MALE TO 7/16 MALE 1/2\" SUPERFLEX JUMPER   6 MTR   \n",
            "8          N MALE TO 7/16 MALE 1/2\" SUPERFLEX JUMPER   8 MTR   \n",
            "9          N MALE TO 7/16 MALE 1/2\" SUPERFLEX JUMPER  10 MTR   \n",
            "\n",
            "                        Connector Type  \n",
            "0  7/16 FEMALE 1/2 TO 4.3-10 MALE 1/2\"  \n",
            "1          7/16 MALE TO 7/16 MALE 1/2\"  \n",
            "2          7/16 MALE TO 7/16 MALE 1/2\"  \n",
            "3          7/16 MALE TO 7/16 MALE 1/2\"  \n",
            "4          7/16 MALE TO 7/16 MALE 1/2\"  \n",
            "5             N MALE TO 7/16 MALE 1/2\"  \n",
            "6             N MALE TO 7/16 MALE 1/2\"  \n",
            "7             N MALE TO 7/16 MALE 1/2\"  \n",
            "8             N MALE TO 7/16 MALE 1/2\"  \n",
            "9             N MALE TO 7/16 MALE 1/2\"  \n"
          ]
        }
      ]
    },
    {
      "cell_type": "code",
      "source": [
        "# Print the DataFrame to verify everything\n",
        "print(\"\\n✅ Final Dataset with Extracted Columns\")\n",
        "print(df[['Item Code', 'Autocount Name', 'Stock Count', 'Base', 'Connector Type', 'Length']])\n"
      ],
      "metadata": {
        "id": "BVB3tQlxqXkQ"
      },
      "execution_count": 21,
      "outputs": []
    },
    {
      "cell_type": "code",
      "source": [
        "# Save the resulting DataFrame to a CSV file\n",
        "output_file = '/content/grouped_products_with_connector.csv'\n",
        "try:\n",
        "    df.to_csv(output_file, index=False)\n",
        "    print(f\"\\nGrouped data saved successfully to {output_file}\")\n",
        "except Exception as e:\n",
        "    print(f\"Failed to save grouped data to {output_file}: {e}\")"
      ],
      "metadata": {
        "colab": {
          "base_uri": "https://localhost:8080/"
        },
        "id": "Lc5AggXMq58f",
        "outputId": "72a098e3-889b-4266-f451-b2c560befb09"
      },
      "execution_count": 22,
      "outputs": [
        {
          "output_type": "stream",
          "name": "stdout",
          "text": [
            "\n",
            "Grouped data saved successfully to /content/grouped_products_with_connector.csv\n"
          ]
        }
      ]
    }
  ]
}